{
  "cells": [
    {
      "cell_type": "code",
      "execution_count": null,
      "metadata": {
        "id": "zj14fJUyWELE"
      },
      "outputs": [],
      "source": [
        "import pandas as pd\n",
        "import matplotlib.pyplot as plt\n",
        "import numpy as np\n",
        "from bs4 import BeautifulSoup\n",
        "import requests\n",
        "from itertools import chain\n",
        "from tqdm import tqdm_notebook as tqdm\n",
        "import itertools\n",
        "from functools import reduce"
      ]
    },
    {
      "cell_type": "code",
      "execution_count": null,
      "metadata": {
        "id": "I-iNwkqgeQuT"
      },
      "outputs": [],
      "source": [
        "def modifyCols(df, drop_cols, rename_cols):\n",
        "    df = df.drop(drop_cols, axis=1)\n",
        "    rename = [col.split(\"_x\")[0] for col in rename_cols]\n",
        "    rename = dict(zip(rename_cols, rename))\n",
        "    df = df.rename(columns = rename)\n",
        "    return df"
      ]
    },
    {
      "cell_type": "code",
      "execution_count": null,
      "metadata": {
        "id": "_elDcBBBeoBq"
      },
      "outputs": [],
      "source": [
        "def preprocess_df(df):\n",
        "  df.position = df.position.replace({\"FW,MF\": \"MF,FW\", \"FW,DF\":\"DF,FW\", \"MF,DF\":\"DF,MF\"})\n",
        "  df.nationality = df.nationality.apply(lambda x: x.split(\" \")[-1])\n",
        "  df.comp_level = df.comp_level.apply(lambda x: ' '.join(x.split(\" \")[1:]))\n",
        "  non_numeric_cols = ['player', 'position', 'nationality', 'team', 'comp_level']\n",
        "\n",
        "  for col in df.columns:\n",
        "    if col not in non_numeric_cols:\n",
        "        df[col] = df[col].apply(lambda x: float(x.replace(',', '')) if type(x)==\"str\" else x)\n",
        "  minutes = df[[\"minutes_90s\"]].iloc[:,1]\n",
        "  del df[\"minutes_90s\"]\n",
        "  df[\"minutes_90\"] = minutes\n",
        "  return df"
      ]
    },
    {
      "cell_type": "code",
      "execution_count": null,
      "metadata": {
        "id": "vp2XJfVadFtJ"
      },
      "outputs": [],
      "source": [
        "def persist_stats_for_a_year(year):\n",
        "  # Get stats for each config keys. \n",
        "  # Config needs to be in the form of a dictionary where the keys are the url types and the values are url names{\"standard\": standard_url, \"defense\": defense_url}\n",
        "  stats = []\n",
        "  url_configs = create_url_configs(year)\n",
        "  for url in url_configs.values():\n",
        "    df = parse_page(url)\n",
        "    stats.append(clean_columns(df))\n",
        "  df_merged = reduce(lambda  left,right: pd.merge(left,right,on=['player', 'nationality', 'position', 'team', 'comp_level', 'age', 'birth_year'],\n",
        "                                            how='inner'), stats).fillna(-1)\n",
        "  drop_cols = list(set([col for col in df_merged.columns if (col.endswith(\"_y\"))]))\n",
        "  rename_cols = list(set([col for col in df_merged.columns if (col.endswith(\"_x\"))]))\n",
        "  df_modify = modifyCols(df_merged, drop_cols, rename_cols)\n",
        "  file_name = \"CURRENT\"\n",
        "  df_modify[\"year_of_stat\"] = file_name\n",
        "  if year is not None:\n",
        "    file_name = year\n",
        "  df_modify.to_csv(f'{file_name}.csv', index=False)\n"
      ]
    },
    {
      "cell_type": "code",
      "execution_count": null,
      "metadata": {
        "id": "SHKJ7p3cgCD1"
      },
      "outputs": [],
      "source": [
        "def create_url_configs(year:str):\n",
        "  # Use the year to construct a dictionary of url configs for all the stats.\n",
        "  config =  {\n",
        "    \"STANDARD_STATS_URL\": \"https://fbref.com/en/comps/Big5/stats/players/Big-5-European-Leagues-Stats\" if year is None else f\"https://fbref.com/en/comps/Big5/{year}/stats/players/{year}-Big-5-European-Leagues-Stats\",\n",
        "    \"DEFENSE_STATS_URL\": \"https://fbref.com/en/comps/Big5/defense/players/Big-5-European-Leagues-Stats\" if year is None else f\"https://fbref.com/en/comps/Big5/{year}/defense/players/{year}-Big-5-European-Leagues-Stats\",\n",
        "    \"GCA_STATS_URL\": \"https://fbref.com/en/comps/Big5/gca/players/Big-5-European-Leagues-Stats\" if year is None else f\"https://fbref.com/en/comps/Big5/{year}/gca/players/{year}-Big-5-European-Leagues-Stats\",\n",
        "    \"MISC_STATS_URL\": \"https://fbref.com/en/comps/Big5/misc/players/Big-5-European-Leagues-Stats\" if year is None else f\"https://fbref.com/en/comps/Big5/{year}/misc/players/{year}-Big-5-European-Leagues-Stats\",\n",
        "    \"SHOOTING_STATS_URL\": \"https://fbref.com/en/comps/Big5/shooting/players/Big-5-European-Leagues-Stats\" if year is None else f\"https://fbref.com/en/comps/Big5/{year}/shooting/players/{year}-Big-5-European-Leagues-Stats\",\n",
        "    \"PASSING_STATS_URL\" : \"https://fbref.com/en/comps/Big5/passing/players/Big-5-European-Leagues-Stats\" if year is None else f\"https://fbref.com/en/comps/Big5/{year}/passing/players/{year}-Big-5-European-Leagues-Stats\",\n",
        "    \"POSSESSION_STATS_URL\" : \"https://fbref.com/en/comps/Big5/possession/players/Big-5-European-Leagues-Stats\" if year is None else f\"https://fbref.com/en/comps/Big5/{year}/possession/players/{year}-Big-5-European-Leagues-Stats\",\n",
        "    \"PLAYING_TIME_URL\" : \"https://fbref.com/en/comps/Big5/playingtime/players/Big-5-European-Leagues-Stats\" if year is None else f\"https://fbref.com/en/comps/Big5/{year}/playingtime/players/{year}-Big-5-European-Leagues-Stats\"\n",
        "  }\n",
        "  return config"
      ]
    },
    {
      "cell_type": "code",
      "execution_count": null,
      "metadata": {
        "id": "FF5kuQ-tW1nt"
      },
      "outputs": [],
      "source": [
        "\n",
        "def append_names(feature_list, head_tuple):\n",
        "    start = 0\n",
        "    end = 0\n",
        "    for head in head_tuple:\n",
        "        end = end + int(head[1])\n",
        "        if head[0] != '':\n",
        "            feature_list[start:end] = [head[0]+\"_\"+x for x in feature_list[start:end]]\n",
        "        start = end\n",
        "    return feature_list"
      ]
    },
    {
      "cell_type": "code",
      "execution_count": null,
      "metadata": {
        "id": "PUzMrxsYd7tc"
      },
      "outputs": [],
      "source": [
        "def clean_columns(df):\n",
        "    df.columns = [col.replace(\"header_\", \"\") if \"header_\" in col else col for col in df.columns ]\n",
        "    if \"matches\" in list(df.columns):\n",
        "        del df[\"matches\"]\n",
        "    return df"
      ]
    },
    {
      "cell_type": "code",
      "execution_count": null,
      "metadata": {
        "id": "gKcu4M4RW3Vs"
      },
      "outputs": [],
      "source": [
        "def parse_page(URL):\n",
        "    page = requests.get(URL)\n",
        "    soup = BeautifulSoup(page.content, 'html.parser')\n",
        "    table = soup.findAll('table')[0]\n",
        "    features = [col.attrs[\"data-stat\"] for col in table.find('thead').findAll('tr')[1].findAll('th')]\n",
        "    features.remove(\"ranker\")\n",
        "    #features.remove(\"matches\")\n",
        "    header_name = [(col.attrs[\"data-stat\"], col.attrs[\"colspan\"]) for col in table.find('thead').findAll('tr')[0].findAll('th') if \"data-stat\" in col.attrs]\n",
        "    features = append_names(features, header_name)\n",
        "    player_table = table.find('tbody')\n",
        "    #Parse player_table\n",
        "    pre_df_player = []\n",
        "    rows_player = player_table.find_all('tr')\n",
        "    for row in rows_player:\n",
        "        if(row.find('th',{\"scope\":\"row\"}) != None):\n",
        "            # Not scraping unnecessary rows this way\n",
        "            data = [x.text.strip().encode().decode(\"utf-8\") for x in row.find_all('td')]\n",
        "            pre_df_player.append(dict(zip(features, data)))\n",
        "        '''\n",
        "        \n",
        "            for f in features:\n",
        "                cell = row.find(\"td\",{\"data-stat\": f})\n",
        "                if cell is not None:\n",
        "                    a = cell.text.strip().encode()\n",
        "                    text=a.decode(\"utf-8\")\n",
        "                    if f in pre_df_player:\n",
        "                        pre_df_player[f].append(text)\n",
        "                    else:\n",
        "                        pre_df_player[f] = [text]\n",
        "                else:\n",
        "                    print(f\"couldn't get stat for {f}\")\n",
        "        '''\n",
        "    df_player = pd.DataFrame(pre_df_player, columns=features)\n",
        "    return df_player"
      ]
    },
    {
      "cell_type": "code",
      "execution_count": null,
      "metadata": {
        "colab": {
          "base_uri": "https://localhost:8080/",
          "height": 156,
          "referenced_widgets": [
            "1e844b64032e4be09339453dfa7a083e",
            "7a0ef91c22454c8598f72937f0e1abb9",
            "1a6902e68901457785bf3f74d343034b",
            "3eec5f325ac149a4bdf12965a1363a3e",
            "dc14e1bca3354a52bbe40d5522d6440a",
            "ddbf4836f4ae47829fabc0b52dd32d58",
            "f405f105b4084b479d3e488e76a70ec0",
            "99cefa576da84c958cfda0154cac2662",
            "04d91eac94a14e9eb4d2a4f2d39e3420",
            "ab54b8c452ee4629aa3435d5b54149c0",
            "083d73b597eb46719feb2cebb30a0749"
          ]
        },
        "id": "3ujIbIuYbHFQ",
        "outputId": "4e6a2b43-b269-4ea3-9257-555595c79d65"
      },
      "outputs": [
        {
          "name": "stderr",
          "output_type": "stream",
          "text": [
            "<ipython-input-59-ffd5ca0a0049>:2: TqdmDeprecationWarning: This function will be removed in tqdm==5.0.0\n",
            "Please use `tqdm.notebook.tqdm` instead of `tqdm.tqdm_notebook`\n",
            "  for year in tqdm(years_to_scrape):\n"
          ]
        },
        {
          "data": {
            "application/vnd.jupyter.widget-view+json": {
              "model_id": "1e844b64032e4be09339453dfa7a083e",
              "version_major": 2,
              "version_minor": 0
            },
            "text/plain": [
              "  0%|          | 0/3 [00:00<?, ?it/s]"
            ]
          },
          "metadata": {},
          "output_type": "display_data"
        },
        {
          "name": "stderr",
          "output_type": "stream",
          "text": [
            "<ipython-input-52-6b998164db88>:9: FutureWarning: Passing 'suffixes' which cause duplicate columns {'minutes_90s_x'} in the result is deprecated and will raise a MergeError in a future version.\n",
            "  df_merged = reduce(lambda  left,right: pd.merge(left,right,on=['player', 'nationality', 'position', 'team', 'comp_level', 'age', 'birth_year'],\n"
          ]
        }
      ],
      "source": [
        "years_to_scrape = [None, \"2021-2022\", \"2020-2021\", \"2019-2020\"]\n",
        "for year in tqdm(years_to_scrape):\n",
        "  persist_stats_for_a_year(year)"
      ]
    },
    {
      "cell_type": "code",
      "execution_count": null,
      "metadata": {
        "colab": {
          "base_uri": "https://localhost:8080/"
        },
        "id": "uReL1hFRxOeY",
        "outputId": "18748f55-024f-4ba0-e284-37dbb28b0a75"
      },
      "outputs": [
        {
          "name": "stderr",
          "output_type": "stream",
          "text": [
            "<ipython-input-52-6b998164db88>:9: FutureWarning: Passing 'suffixes' which cause duplicate columns {'minutes_90s_x'} in the result is deprecated and will raise a MergeError in a future version.\n",
            "  df_merged = reduce(lambda  left,right: pd.merge(left,right,on=['player', 'nationality', 'position', 'team', 'comp_level', 'age', 'birth_year'],\n"
          ]
        }
      ],
      "source": [
        "persist_stats_for_a_year(\"2018-2019\")"
      ]
    },
    {
      "cell_type": "markdown",
      "metadata": {
        "id": "uWXas7XLGfmi"
      },
      "source": [
        "REVIEW"
      ]
    },
    {
      "cell_type": "code",
      "execution_count": null,
      "metadata": {
        "id": "Aazl1andDkyk"
      },
      "outputs": [],
      "source": [
        "data = pd.read_csv('/content/CURRENT.csv')"
      ]
    },
    {
      "cell_type": "code",
      "execution_count": null,
      "metadata": {
        "id": "7HjgwgAdHG5K"
      },
      "outputs": [],
      "source": [
        "regular = data[data.playing_minutes_pct > 60]"
      ]
    },
    {
      "cell_type": "code",
      "execution_count": null,
      "metadata": {
        "colab": {
          "base_uri": "https://localhost:8080/",
          "height": 375
        },
        "id": "VzHhMOPNHMMd",
        "outputId": "5985d2a3-91d5-4d99-fe0d-141dca6c02a6"
      },
      "outputs": [
        {
          "ename": "KeyError",
          "evalue": "ignored",
          "output_type": "error",
          "traceback": [
            "\u001b[0;31m---------------------------------------------------------------------------\u001b[0m",
            "\u001b[0;31mKeyError\u001b[0m                                  Traceback (most recent call last)",
            "\u001b[0;32m<ipython-input-43-d2b3798c59d4>\u001b[0m in \u001b[0;36m<module>\u001b[0;34m\u001b[0m\n\u001b[1;32m      5\u001b[0m \u001b[0mcols\u001b[0m \u001b[0;34m=\u001b[0m \u001b[0mcreative_mid_stats\u001b[0m\u001b[0;34m[\u001b[0m\u001b[0;34m:\u001b[0m\u001b[0;34m]\u001b[0m\u001b[0;34m\u001b[0m\u001b[0;34m\u001b[0m\u001b[0m\n\u001b[1;32m      6\u001b[0m \u001b[0mcols\u001b[0m\u001b[0;34m.\u001b[0m\u001b[0mremove\u001b[0m\u001b[0;34m(\u001b[0m\u001b[0;34m\"player\"\u001b[0m\u001b[0;34m)\u001b[0m\u001b[0;34m\u001b[0m\u001b[0;34m\u001b[0m\u001b[0m\n\u001b[0;32m----> 7\u001b[0;31m \u001b[0mcreative_values\u001b[0m \u001b[0;34m=\u001b[0m \u001b[0mmidfielders\u001b[0m\u001b[0;34m[\u001b[0m\u001b[0mcols\u001b[0m\u001b[0;34m]\u001b[0m\u001b[0;34m.\u001b[0m\u001b[0mvalues\u001b[0m\u001b[0;34m\u001b[0m\u001b[0;34m\u001b[0m\u001b[0m\n\u001b[0m",
            "\u001b[0;32m/usr/local/lib/python3.8/dist-packages/pandas/core/frame.py\u001b[0m in \u001b[0;36m__getitem__\u001b[0;34m(self, key)\u001b[0m\n\u001b[1;32m   3462\u001b[0m             \u001b[0;32mif\u001b[0m \u001b[0mis_iterator\u001b[0m\u001b[0;34m(\u001b[0m\u001b[0mkey\u001b[0m\u001b[0;34m)\u001b[0m\u001b[0;34m:\u001b[0m\u001b[0;34m\u001b[0m\u001b[0;34m\u001b[0m\u001b[0m\n\u001b[1;32m   3463\u001b[0m                 \u001b[0mkey\u001b[0m \u001b[0;34m=\u001b[0m \u001b[0mlist\u001b[0m\u001b[0;34m(\u001b[0m\u001b[0mkey\u001b[0m\u001b[0;34m)\u001b[0m\u001b[0;34m\u001b[0m\u001b[0;34m\u001b[0m\u001b[0m\n\u001b[0;32m-> 3464\u001b[0;31m             \u001b[0mindexer\u001b[0m \u001b[0;34m=\u001b[0m \u001b[0mself\u001b[0m\u001b[0;34m.\u001b[0m\u001b[0mloc\u001b[0m\u001b[0;34m.\u001b[0m\u001b[0m_get_listlike_indexer\u001b[0m\u001b[0;34m(\u001b[0m\u001b[0mkey\u001b[0m\u001b[0;34m,\u001b[0m \u001b[0maxis\u001b[0m\u001b[0;34m=\u001b[0m\u001b[0;36m1\u001b[0m\u001b[0;34m)\u001b[0m\u001b[0;34m[\u001b[0m\u001b[0;36m1\u001b[0m\u001b[0;34m]\u001b[0m\u001b[0;34m\u001b[0m\u001b[0;34m\u001b[0m\u001b[0m\n\u001b[0m\u001b[1;32m   3465\u001b[0m \u001b[0;34m\u001b[0m\u001b[0m\n\u001b[1;32m   3466\u001b[0m         \u001b[0;31m# take() does not accept boolean indexers\u001b[0m\u001b[0;34m\u001b[0m\u001b[0;34m\u001b[0m\u001b[0;34m\u001b[0m\u001b[0m\n",
            "\u001b[0;32m/usr/local/lib/python3.8/dist-packages/pandas/core/indexing.py\u001b[0m in \u001b[0;36m_get_listlike_indexer\u001b[0;34m(self, key, axis)\u001b[0m\n\u001b[1;32m   1312\u001b[0m             \u001b[0mkeyarr\u001b[0m\u001b[0;34m,\u001b[0m \u001b[0mindexer\u001b[0m\u001b[0;34m,\u001b[0m \u001b[0mnew_indexer\u001b[0m \u001b[0;34m=\u001b[0m \u001b[0max\u001b[0m\u001b[0;34m.\u001b[0m\u001b[0m_reindex_non_unique\u001b[0m\u001b[0;34m(\u001b[0m\u001b[0mkeyarr\u001b[0m\u001b[0;34m)\u001b[0m\u001b[0;34m\u001b[0m\u001b[0;34m\u001b[0m\u001b[0m\n\u001b[1;32m   1313\u001b[0m \u001b[0;34m\u001b[0m\u001b[0m\n\u001b[0;32m-> 1314\u001b[0;31m         \u001b[0mself\u001b[0m\u001b[0;34m.\u001b[0m\u001b[0m_validate_read_indexer\u001b[0m\u001b[0;34m(\u001b[0m\u001b[0mkeyarr\u001b[0m\u001b[0;34m,\u001b[0m \u001b[0mindexer\u001b[0m\u001b[0;34m,\u001b[0m \u001b[0maxis\u001b[0m\u001b[0;34m)\u001b[0m\u001b[0;34m\u001b[0m\u001b[0;34m\u001b[0m\u001b[0m\n\u001b[0m\u001b[1;32m   1315\u001b[0m \u001b[0;34m\u001b[0m\u001b[0m\n\u001b[1;32m   1316\u001b[0m         if needs_i8_conversion(ax.dtype) or isinstance(\n",
            "\u001b[0;32m/usr/local/lib/python3.8/dist-packages/pandas/core/indexing.py\u001b[0m in \u001b[0;36m_validate_read_indexer\u001b[0;34m(self, key, indexer, axis)\u001b[0m\n\u001b[1;32m   1375\u001b[0m \u001b[0;34m\u001b[0m\u001b[0m\n\u001b[1;32m   1376\u001b[0m             \u001b[0mnot_found\u001b[0m \u001b[0;34m=\u001b[0m \u001b[0mlist\u001b[0m\u001b[0;34m(\u001b[0m\u001b[0mensure_index\u001b[0m\u001b[0;34m(\u001b[0m\u001b[0mkey\u001b[0m\u001b[0;34m)\u001b[0m\u001b[0;34m[\u001b[0m\u001b[0mmissing_mask\u001b[0m\u001b[0;34m.\u001b[0m\u001b[0mnonzero\u001b[0m\u001b[0;34m(\u001b[0m\u001b[0;34m)\u001b[0m\u001b[0;34m[\u001b[0m\u001b[0;36m0\u001b[0m\u001b[0;34m]\u001b[0m\u001b[0;34m]\u001b[0m\u001b[0;34m.\u001b[0m\u001b[0munique\u001b[0m\u001b[0;34m(\u001b[0m\u001b[0;34m)\u001b[0m\u001b[0;34m)\u001b[0m\u001b[0;34m\u001b[0m\u001b[0;34m\u001b[0m\u001b[0m\n\u001b[0;32m-> 1377\u001b[0;31m             \u001b[0;32mraise\u001b[0m \u001b[0mKeyError\u001b[0m\u001b[0;34m(\u001b[0m\u001b[0;34mf\"{not_found} not in index\"\u001b[0m\u001b[0;34m)\u001b[0m\u001b[0;34m\u001b[0m\u001b[0;34m\u001b[0m\u001b[0m\n\u001b[0m\u001b[1;32m   1378\u001b[0m \u001b[0;34m\u001b[0m\u001b[0m\n\u001b[1;32m   1379\u001b[0m \u001b[0;34m\u001b[0m\u001b[0m\n",
            "\u001b[0;31mKeyError\u001b[0m: \"['expected_xa', 'expected_xg_per90', 'per90_xg', 'per90_npxg_xa_per90', 'pressures_pressures_mid_3rd', 'pressures_pressures_att_3rd', 'interceptions', 'sca_types_sca_dribbles', 'gca_types_gca_dribbles', 'dribbles_dribbles_completed_pct', 'dribbles_nutmegs'] not in index\""
          ]
        }
      ],
      "source": [
        "midfielders = regular[regular.position.isin([\"MF\", \"DF,MF\"])]\n",
        "\n",
        "creative_mid_stats = [\"player\", \"playing_minutes_pct\",\"per90_goals_assists_pens_per90\", \"expected_xa\", \"expected_xg_per90\", \"per90_xg\", \"per90_npxg_xa_per90\", \"pressures_pressures_mid_3rd\", \"pressures_pressures_att_3rd\", \"interceptions\", \"starts_minutes_per_start\", \"sca_sca_per90\", \"gca_gca_per90\", \"sca_types_sca_dribbles\", \"gca_types_gca_dribbles\", \"passes_total_passes_progressive_distance\", \"passes_medium_passes_pct_medium\", \"passes_long_passes_pct_long\",\"passes_into_final_third\", \"passes_into_penalty_area\", \"crosses_into_penalty_area\", \"team_success_plus_minus_per90\", \"touches_touches_mid_3rd\", \"touches_touches_att_3rd\", \"touches_touches_att_pen_area\", \"dribbles_dribbles_completed_pct\", \"dribbles_nutmegs\"]\n",
        "\n",
        "cols = creative_mid_stats[:]\n",
        "cols.remove(\"player\")\n",
        "creative_values = midfielders[cols].values"
      ]
    },
    {
      "cell_type": "code",
      "execution_count": null,
      "metadata": {
        "colab": {
          "base_uri": "https://localhost:8080/"
        },
        "id": "US90URrKII7P",
        "outputId": "c36dc7af-69a2-4310-c8b1-20a51452c0b9"
      },
      "outputs": [
        {
          "data": {
            "text/plain": [
              "['player',\n",
              " 'nationality',\n",
              " 'position',\n",
              " 'team',\n",
              " 'comp_level',\n",
              " 'age',\n",
              " 'birth_year',\n",
              " 'games',\n",
              " 'playing_games_starts',\n",
              " 'playing_minutes',\n",
              " 'playing_minutes_90s',\n",
              " 'playing_goals',\n",
              " 'performance_assists',\n",
              " 'performance_goals_assists',\n",
              " 'performance_goals_pens',\n",
              " 'performance_pens_made',\n",
              " 'performance_pens_att',\n",
              " 'performance_cards_yellow',\n",
              " 'performance_cards_red',\n",
              " 'performance_xg',\n",
              " 'expected_npxg',\n",
              " 'expected_xg_assist',\n",
              " 'expected_npxg_xg_assist',\n",
              " 'expected_progressive_carries',\n",
              " 'progression_progressive_passes',\n",
              " 'progression_progressive_passes_received',\n",
              " 'progression_goals_per90',\n",
              " 'per90_assists_per90',\n",
              " 'per90_goals_assists_per90',\n",
              " 'per90_goals_pens_per90',\n",
              " 'per90_goals_assists_pens_per90',\n",
              " 'per90_xg_per90',\n",
              " 'per90_xg_assist_per90',\n",
              " 'per90_xg_xg_assist_per90',\n",
              " 'per90_npxg_per90',\n",
              " 'per90_npxg_xg_assist_per90',\n",
              " 'per90_matches',\n",
              " 'minutes_90s',\n",
              " 'tackles',\n",
              " 'tackles_tackles_won',\n",
              " 'tackles_tackles_def_3rd',\n",
              " 'tackles_tackles_mid_3rd',\n",
              " 'tackles_tackles_att_3rd',\n",
              " 'tackles_challenge_tackles',\n",
              " 'challenges_challenges',\n",
              " 'challenges_challenge_tackles_pct',\n",
              " 'challenges_challenges_lost',\n",
              " 'challenges_blocks',\n",
              " 'blocks_blocked_shots',\n",
              " 'blocks_blocked_passes',\n",
              " 'blocks_interceptions',\n",
              " 'tackles_interceptions',\n",
              " 'clearances',\n",
              " 'errors',\n",
              " 'sca',\n",
              " 'sca_sca_per90',\n",
              " 'sca_sca_passes_live',\n",
              " 'sca_types_sca_passes_dead',\n",
              " 'sca_types_sca_take_ons',\n",
              " 'sca_types_sca_shots',\n",
              " 'sca_types_sca_fouled',\n",
              " 'sca_types_sca_defense',\n",
              " 'sca_types_gca',\n",
              " 'gca_gca_per90',\n",
              " 'gca_gca_passes_live',\n",
              " 'gca_types_gca_passes_dead',\n",
              " 'gca_types_gca_take_ons',\n",
              " 'gca_types_gca_shots',\n",
              " 'gca_types_gca_fouled',\n",
              " 'gca_types_gca_defense',\n",
              " 'gca_types_matches',\n",
              " 'minutes_90s.1',\n",
              " 'cards_yellow',\n",
              " 'performance_cards_yellow_red',\n",
              " 'performance_fouls',\n",
              " 'performance_fouled',\n",
              " 'performance_offsides',\n",
              " 'performance_crosses',\n",
              " 'performance_interceptions',\n",
              " 'performance_tackles_won',\n",
              " 'performance_pens_won',\n",
              " 'performance_pens_conceded',\n",
              " 'performance_own_goals',\n",
              " 'performance_ball_recoveries',\n",
              " 'performance_aerials_won',\n",
              " 'aerials_aerials_lost',\n",
              " 'aerials_aerials_won_pct',\n",
              " 'aerials_matches',\n",
              " 'goals',\n",
              " 'standard_shots',\n",
              " 'standard_shots_on_target',\n",
              " 'standard_shots_on_target_pct',\n",
              " 'standard_shots_per90',\n",
              " 'standard_shots_on_target_per90',\n",
              " 'standard_goals_per_shot',\n",
              " 'standard_goals_per_shot_on_target',\n",
              " 'standard_average_shot_distance',\n",
              " 'standard_shots_free_kicks',\n",
              " 'standard_pens_made',\n",
              " 'standard_pens_att',\n",
              " 'standard_xg',\n",
              " 'expected_npxg_per_shot',\n",
              " 'expected_xg_net',\n",
              " 'expected_npxg_net',\n",
              " 'expected_matches',\n",
              " 'minutes_90s.2',\n",
              " 'passes_completed',\n",
              " 'passes_total_passes',\n",
              " 'passes_total_passes_pct',\n",
              " 'passes_total_passes_total_distance',\n",
              " 'passes_total_passes_progressive_distance',\n",
              " 'passes_total_passes_completed_short',\n",
              " 'passes_short_passes_short',\n",
              " 'passes_short_passes_pct_short',\n",
              " 'passes_short_passes_completed_medium',\n",
              " 'passes_medium_passes_medium',\n",
              " 'passes_medium_passes_pct_medium',\n",
              " 'passes_medium_passes_completed_long',\n",
              " 'passes_long_passes_long',\n",
              " 'passes_long_passes_pct_long',\n",
              " 'passes_long_assists',\n",
              " 'xg_assist',\n",
              " 'pass_xa',\n",
              " 'xg_assist_net',\n",
              " 'assisted_shots',\n",
              " 'passes_into_final_third',\n",
              " 'passes_into_penalty_area',\n",
              " 'crosses_into_penalty_area',\n",
              " 'progressive_passes',\n",
              " 'touches',\n",
              " 'touches_touches_def_pen_area',\n",
              " 'touches_touches_def_3rd',\n",
              " 'touches_touches_mid_3rd',\n",
              " 'touches_touches_att_3rd',\n",
              " 'touches_touches_att_pen_area',\n",
              " 'touches_touches_live_ball',\n",
              " 'touches_take_ons',\n",
              " 'take_ons_take_ons_won',\n",
              " 'take_ons_take_ons_won_pct',\n",
              " 'take_ons_take_ons_tackled',\n",
              " 'take_ons_take_ons_tackled_pct',\n",
              " 'take_ons_carries',\n",
              " 'carries_carries_distance',\n",
              " 'carries_carries_progressive_distance',\n",
              " 'carries_progressive_carries',\n",
              " 'carries_carries_into_final_third',\n",
              " 'carries_carries_into_penalty_area',\n",
              " 'carries_miscontrols',\n",
              " 'carries_dispossessed',\n",
              " 'carries_passes_received',\n",
              " 'receiving_progressive_passes_received',\n",
              " 'receiving_matches',\n",
              " 'playing_minutes_per_game',\n",
              " 'playing_minutes_pct',\n",
              " 'starts_minutes_per_start',\n",
              " 'starts_games_complete',\n",
              " 'starts_games_subs',\n",
              " 'subs_minutes_per_sub',\n",
              " 'subs_unused_subs',\n",
              " 'subs_points_per_game',\n",
              " 'team_success_on_goals_for',\n",
              " 'team_success_on_goals_against',\n",
              " 'team_success_plus_minus',\n",
              " 'team_success_plus_minus_per90',\n",
              " 'team_success_plus_minus_wowy',\n",
              " 'team_success_on_xg_for',\n",
              " 'xg_team_success_on_xg_against',\n",
              " 'xg_team_success_xg_plus_minus',\n",
              " 'xg_team_success_xg_plus_minus_per90',\n",
              " 'xg_team_success_xg_plus_minus_wowy',\n",
              " 'xg_team_success_matches',\n",
              " 'year_of_stat']"
            ]
          },
          "execution_count": 47,
          "metadata": {},
          "output_type": "execute_result"
        }
      ],
      "source": [
        "list(midfielders.columns)"
      ]
    }
  ],
  "metadata": {
    "colab": {
      "provenance": []
    },
    "kernelspec": {
      "display_name": "Python 3",
      "name": "python3"
    },
    "language_info": {
      "name": "python"
    },
    "widgets": {
      "application/vnd.jupyter.widget-state+json": {
        "04d91eac94a14e9eb4d2a4f2d39e3420": {
          "model_module": "@jupyter-widgets/controls",
          "model_module_version": "1.5.0",
          "model_name": "ProgressStyleModel",
          "state": {
            "_model_module": "@jupyter-widgets/controls",
            "_model_module_version": "1.5.0",
            "_model_name": "ProgressStyleModel",
            "_view_count": null,
            "_view_module": "@jupyter-widgets/base",
            "_view_module_version": "1.2.0",
            "_view_name": "StyleView",
            "bar_color": null,
            "description_width": ""
          }
        },
        "083d73b597eb46719feb2cebb30a0749": {
          "model_module": "@jupyter-widgets/controls",
          "model_module_version": "1.5.0",
          "model_name": "DescriptionStyleModel",
          "state": {
            "_model_module": "@jupyter-widgets/controls",
            "_model_module_version": "1.5.0",
            "_model_name": "DescriptionStyleModel",
            "_view_count": null,
            "_view_module": "@jupyter-widgets/base",
            "_view_module_version": "1.2.0",
            "_view_name": "StyleView",
            "description_width": ""
          }
        },
        "1a6902e68901457785bf3f74d343034b": {
          "model_module": "@jupyter-widgets/controls",
          "model_module_version": "1.5.0",
          "model_name": "FloatProgressModel",
          "state": {
            "_dom_classes": [],
            "_model_module": "@jupyter-widgets/controls",
            "_model_module_version": "1.5.0",
            "_model_name": "FloatProgressModel",
            "_view_count": null,
            "_view_module": "@jupyter-widgets/controls",
            "_view_module_version": "1.5.0",
            "_view_name": "ProgressView",
            "bar_style": "success",
            "description": "",
            "description_tooltip": null,
            "layout": "IPY_MODEL_99cefa576da84c958cfda0154cac2662",
            "max": 3,
            "min": 0,
            "orientation": "horizontal",
            "style": "IPY_MODEL_04d91eac94a14e9eb4d2a4f2d39e3420",
            "value": 3
          }
        },
        "1e844b64032e4be09339453dfa7a083e": {
          "model_module": "@jupyter-widgets/controls",
          "model_module_version": "1.5.0",
          "model_name": "HBoxModel",
          "state": {
            "_dom_classes": [],
            "_model_module": "@jupyter-widgets/controls",
            "_model_module_version": "1.5.0",
            "_model_name": "HBoxModel",
            "_view_count": null,
            "_view_module": "@jupyter-widgets/controls",
            "_view_module_version": "1.5.0",
            "_view_name": "HBoxView",
            "box_style": "",
            "children": [
              "IPY_MODEL_7a0ef91c22454c8598f72937f0e1abb9",
              "IPY_MODEL_1a6902e68901457785bf3f74d343034b",
              "IPY_MODEL_3eec5f325ac149a4bdf12965a1363a3e"
            ],
            "layout": "IPY_MODEL_dc14e1bca3354a52bbe40d5522d6440a"
          }
        },
        "3eec5f325ac149a4bdf12965a1363a3e": {
          "model_module": "@jupyter-widgets/controls",
          "model_module_version": "1.5.0",
          "model_name": "HTMLModel",
          "state": {
            "_dom_classes": [],
            "_model_module": "@jupyter-widgets/controls",
            "_model_module_version": "1.5.0",
            "_model_name": "HTMLModel",
            "_view_count": null,
            "_view_module": "@jupyter-widgets/controls",
            "_view_module_version": "1.5.0",
            "_view_name": "HTMLView",
            "description": "",
            "description_tooltip": null,
            "layout": "IPY_MODEL_ab54b8c452ee4629aa3435d5b54149c0",
            "placeholder": "​",
            "style": "IPY_MODEL_083d73b597eb46719feb2cebb30a0749",
            "value": " 3/3 [09:53&lt;00:00, 213.62s/it]"
          }
        },
        "7a0ef91c22454c8598f72937f0e1abb9": {
          "model_module": "@jupyter-widgets/controls",
          "model_module_version": "1.5.0",
          "model_name": "HTMLModel",
          "state": {
            "_dom_classes": [],
            "_model_module": "@jupyter-widgets/controls",
            "_model_module_version": "1.5.0",
            "_model_name": "HTMLModel",
            "_view_count": null,
            "_view_module": "@jupyter-widgets/controls",
            "_view_module_version": "1.5.0",
            "_view_name": "HTMLView",
            "description": "",
            "description_tooltip": null,
            "layout": "IPY_MODEL_ddbf4836f4ae47829fabc0b52dd32d58",
            "placeholder": "​",
            "style": "IPY_MODEL_f405f105b4084b479d3e488e76a70ec0",
            "value": "100%"
          }
        },
        "99cefa576da84c958cfda0154cac2662": {
          "model_module": "@jupyter-widgets/base",
          "model_module_version": "1.2.0",
          "model_name": "LayoutModel",
          "state": {
            "_model_module": "@jupyter-widgets/base",
            "_model_module_version": "1.2.0",
            "_model_name": "LayoutModel",
            "_view_count": null,
            "_view_module": "@jupyter-widgets/base",
            "_view_module_version": "1.2.0",
            "_view_name": "LayoutView",
            "align_content": null,
            "align_items": null,
            "align_self": null,
            "border": null,
            "bottom": null,
            "display": null,
            "flex": null,
            "flex_flow": null,
            "grid_area": null,
            "grid_auto_columns": null,
            "grid_auto_flow": null,
            "grid_auto_rows": null,
            "grid_column": null,
            "grid_gap": null,
            "grid_row": null,
            "grid_template_areas": null,
            "grid_template_columns": null,
            "grid_template_rows": null,
            "height": null,
            "justify_content": null,
            "justify_items": null,
            "left": null,
            "margin": null,
            "max_height": null,
            "max_width": null,
            "min_height": null,
            "min_width": null,
            "object_fit": null,
            "object_position": null,
            "order": null,
            "overflow": null,
            "overflow_x": null,
            "overflow_y": null,
            "padding": null,
            "right": null,
            "top": null,
            "visibility": null,
            "width": null
          }
        },
        "ab54b8c452ee4629aa3435d5b54149c0": {
          "model_module": "@jupyter-widgets/base",
          "model_module_version": "1.2.0",
          "model_name": "LayoutModel",
          "state": {
            "_model_module": "@jupyter-widgets/base",
            "_model_module_version": "1.2.0",
            "_model_name": "LayoutModel",
            "_view_count": null,
            "_view_module": "@jupyter-widgets/base",
            "_view_module_version": "1.2.0",
            "_view_name": "LayoutView",
            "align_content": null,
            "align_items": null,
            "align_self": null,
            "border": null,
            "bottom": null,
            "display": null,
            "flex": null,
            "flex_flow": null,
            "grid_area": null,
            "grid_auto_columns": null,
            "grid_auto_flow": null,
            "grid_auto_rows": null,
            "grid_column": null,
            "grid_gap": null,
            "grid_row": null,
            "grid_template_areas": null,
            "grid_template_columns": null,
            "grid_template_rows": null,
            "height": null,
            "justify_content": null,
            "justify_items": null,
            "left": null,
            "margin": null,
            "max_height": null,
            "max_width": null,
            "min_height": null,
            "min_width": null,
            "object_fit": null,
            "object_position": null,
            "order": null,
            "overflow": null,
            "overflow_x": null,
            "overflow_y": null,
            "padding": null,
            "right": null,
            "top": null,
            "visibility": null,
            "width": null
          }
        },
        "dc14e1bca3354a52bbe40d5522d6440a": {
          "model_module": "@jupyter-widgets/base",
          "model_module_version": "1.2.0",
          "model_name": "LayoutModel",
          "state": {
            "_model_module": "@jupyter-widgets/base",
            "_model_module_version": "1.2.0",
            "_model_name": "LayoutModel",
            "_view_count": null,
            "_view_module": "@jupyter-widgets/base",
            "_view_module_version": "1.2.0",
            "_view_name": "LayoutView",
            "align_content": null,
            "align_items": null,
            "align_self": null,
            "border": null,
            "bottom": null,
            "display": null,
            "flex": null,
            "flex_flow": null,
            "grid_area": null,
            "grid_auto_columns": null,
            "grid_auto_flow": null,
            "grid_auto_rows": null,
            "grid_column": null,
            "grid_gap": null,
            "grid_row": null,
            "grid_template_areas": null,
            "grid_template_columns": null,
            "grid_template_rows": null,
            "height": null,
            "justify_content": null,
            "justify_items": null,
            "left": null,
            "margin": null,
            "max_height": null,
            "max_width": null,
            "min_height": null,
            "min_width": null,
            "object_fit": null,
            "object_position": null,
            "order": null,
            "overflow": null,
            "overflow_x": null,
            "overflow_y": null,
            "padding": null,
            "right": null,
            "top": null,
            "visibility": null,
            "width": null
          }
        },
        "ddbf4836f4ae47829fabc0b52dd32d58": {
          "model_module": "@jupyter-widgets/base",
          "model_module_version": "1.2.0",
          "model_name": "LayoutModel",
          "state": {
            "_model_module": "@jupyter-widgets/base",
            "_model_module_version": "1.2.0",
            "_model_name": "LayoutModel",
            "_view_count": null,
            "_view_module": "@jupyter-widgets/base",
            "_view_module_version": "1.2.0",
            "_view_name": "LayoutView",
            "align_content": null,
            "align_items": null,
            "align_self": null,
            "border": null,
            "bottom": null,
            "display": null,
            "flex": null,
            "flex_flow": null,
            "grid_area": null,
            "grid_auto_columns": null,
            "grid_auto_flow": null,
            "grid_auto_rows": null,
            "grid_column": null,
            "grid_gap": null,
            "grid_row": null,
            "grid_template_areas": null,
            "grid_template_columns": null,
            "grid_template_rows": null,
            "height": null,
            "justify_content": null,
            "justify_items": null,
            "left": null,
            "margin": null,
            "max_height": null,
            "max_width": null,
            "min_height": null,
            "min_width": null,
            "object_fit": null,
            "object_position": null,
            "order": null,
            "overflow": null,
            "overflow_x": null,
            "overflow_y": null,
            "padding": null,
            "right": null,
            "top": null,
            "visibility": null,
            "width": null
          }
        },
        "f405f105b4084b479d3e488e76a70ec0": {
          "model_module": "@jupyter-widgets/controls",
          "model_module_version": "1.5.0",
          "model_name": "DescriptionStyleModel",
          "state": {
            "_model_module": "@jupyter-widgets/controls",
            "_model_module_version": "1.5.0",
            "_model_name": "DescriptionStyleModel",
            "_view_count": null,
            "_view_module": "@jupyter-widgets/base",
            "_view_module_version": "1.2.0",
            "_view_name": "StyleView",
            "description_width": ""
          }
        }
      }
    }
  },
  "nbformat": 4,
  "nbformat_minor": 0
}
